{
 "cells": [
  {
   "cell_type": "code",
   "execution_count": 3,
   "id": "19cfb2cb-af96-4423-96e0-f56da5a0b3d5",
   "metadata": {},
   "outputs": [],
   "source": [
    "import numpy as np\n",
    "from numpy import genfromtxt\n",
    "import pandas as pd\n",
    "import matplotlib\n",
    "import matplotlib.pyplot as plt\n",
    "import scipy\n",
    "import math\n",
    "import time\n",
    "import datetime\n",
    "import csv\n",
    "import cv2\n",
    "import keyboard\n"
   ]
  },
  {
   "cell_type": "code",
   "execution_count": 28,
   "id": "b5e05c77-6c0f-4929-8e20-b5d79e0e70f1",
   "metadata": {},
   "outputs": [
    {
     "name": "stdout",
     "output_type": "stream",
     "text": [
      "120\n"
     ]
    }
   ],
   "source": [
    "# import data\n",
    "data_array = np.genfromtxt('offset_test_5.csv', delimiter=',', skip_header=2, usecols=[0,1,2,3,5,6,7])\n",
    "# convert unix to zeroed session time\n",
    "start_time = data_array[0,0]\n",
    "end_time = data_array[-1,0]\n",
    "data_array[:,0] = (data_array[:,0]-start_time)/1000\n",
    "\n",
    "\n",
    "\n",
    "\n",
    "### ADD SESSION DATE AS SHOWN IN FIRST FRAME OF VIDEO ###\n",
    "session_date = datetime.date(2023,1,12) # [year,month,day]\n",
    "session_start_time = [15,0,41,283] # [hour,minute,second,millisecond]\n",
    "\n",
    "\n",
    "\n",
    "# convert to time format\n",
    "session_start_time = datetime.time(session_start_time[0],session_start_time[1],session_start_time[2],session_start_time[3]*1000)\n",
    "# combine with session date\n",
    "session_start_time = datetime.datetime.combine(session_date,session_start_time)\n",
    "# convert to unix time\n",
    "session_start_unixtime = time.mktime(session_start_time.timetuple())*1000 + session_start_time.microsecond/1000\n",
    "\n",
    "#print(session_start_unixtime)\n",
    "\n",
    "\n",
    "\n",
    "\n",
    "\n",
    "# Open the video file\n",
    "video = cv2.VideoCapture('offset_test_5.mov')\n",
    "#fps = video.get(cv2.CAP_PROP_FPS)\n",
    "fps = 120\n",
    "print(fps)\n",
    "\n",
    "# Create an empty list to store the frames\n",
    "frames = []\n",
    "\n",
    "# Iterate over the frames of the video\n",
    "while video.isOpened():\n",
    "    # Read the next frame\n",
    "    ret, frame = video.read()\n",
    "\n",
    "    # If the frame was not read properly, break the loop\n",
    "    if not ret:\n",
    "        break\n",
    "\n",
    "    # Add the frame to the list\n",
    "    frames.append(frame)\n",
    "    \n",
    "    if len(frames)>2000:\n",
    "        break\n",
    "\n",
    "# Release the video capture object\n",
    "video.release()\n",
    "\n",
    "# Now you can access the frames using their index in the list,\n",
    "# for example:\n",
    "# first_frame = frames[0]\n",
    "# second_frame = frames[1]\n",
    "# etc."
   ]
  },
  {
   "cell_type": "code",
   "execution_count": 29,
   "id": "fbcff3aa-b256-482e-86dd-a045a7c3cfd2",
   "metadata": {},
   "outputs": [
    {
     "name": "stdout",
     "output_type": "stream",
     "text": [
      "[1.67355366e+12]\n"
     ]
    }
   ],
   "source": [
    "i = 0\n",
    "TO_array = np.array([])\n",
    "\n",
    "while True:\n",
    "    current_frame = frames[i]\n",
    "    cv2.imshow(\"frame\", current_frame)\n",
    "    cv2.waitKey(500)\n",
    "    \n",
    "    \n",
    "    # Use arrowkeys to nagivate through frames\n",
    "    if keyboard.is_pressed('right'):\n",
    "        i += 20\n",
    "        if i>len(frames):\n",
    "            i = len(frames)-1\n",
    "    if keyboard.is_pressed('left'):\n",
    "        i -= 20\n",
    "        if i<0:\n",
    "            i = 0\n",
    "    if keyboard.is_pressed('up'):  \n",
    "        i += 1\n",
    "        if i>len(frames):\n",
    "            i = 0        \n",
    "    if keyboard.is_pressed('down'):  \n",
    "        i -= 1\n",
    "        if i<0:\n",
    "            i = 0\n",
    "            \n",
    "    # Use 't' to label a TO event\n",
    "    if keyboard.is_pressed('t'):\n",
    "        current_frame_unixtime = i*1000/fps + session_start_unixtime\n",
    "        TO_array = np.append(TO_array, current_frame_unixtime)\n",
    "            \n",
    "    # Use 'q' to exit window\n",
    "    if keyboard.is_pressed('q'):\n",
    "        break\n",
    "\n",
    "        \n",
    "cv2.destroyAllWindows()\n",
    "print(TO_array)"
   ]
  },
  {
   "cell_type": "code",
   "execution_count": 9,
   "id": "e27e3cf8-ca09-4572-a158-3afa8da615a6",
   "metadata": {},
   "outputs": [
    {
     "name": "stdout",
     "output_type": "stream",
     "text": [
      "[1.67355366e+12]\n"
     ]
    }
   ],
   "source": [
    "print(TO_array)\n",
    "#print((TO_array-start_time)/1000)"
   ]
  },
  {
   "cell_type": "code",
   "execution_count": 31,
   "id": "66456262-8dab-4a62-9b27-6ddbcbc59ef9",
   "metadata": {},
   "outputs": [
    {
     "name": "stdout",
     "output_type": "stream",
     "text": [
      "[7.69246997]\n"
     ]
    },
    {
     "data": {
      "text/plain": [
       "<function matplotlib.pyplot.show(close=None, block=None)>"
      ]
     },
     "execution_count": 31,
     "metadata": {},
     "output_type": "execute_result"
    },
    {
     "data": {
      "image/png": "[encoded data removed]",
      "text/plain": [
       "<Figure size 640x480 with 1 Axes>"
      ]
     },
     "metadata": {},
     "output_type": "display_data"
    }
   ],
   "source": [
    "# standardize to match session time\n",
    "TO_times = (TO_array - start_time)/1000\n",
    "print(TO_times)\n",
    "\n",
    "\n",
    "fig1 = plt.figure()\n",
    "\n",
    "# Write labels to csv\n",
    "labelled_df = pd.read_csv('offset_test_5.csv', skiprows=0)\n",
    "labelled_df.drop(labelled_df.tail(1).index,inplace=True) # drop last n rows\n",
    "labelled_col = np.zeros(labelled_df.shape[0])\n",
    "#print(len(labelled_col))\n",
    "\n",
    "for TO in TO_times:\n",
    "    plt.axvline(TO, color='r', linestyle='--')\n",
    "    #labelled_col[data_array[:,0]>TO][0] = data_array[data_array[:,0]>TO][0,0]\n",
    "    labelled_col[np.logical_and((TO+0.05)>data_array[:,0],data_array[:,0]>(TO-0.05))] = 1.0\n",
    "\n",
    "\n",
    "labelled_df['TOE OFF?'] = labelled_col.tolist()\n",
    "\n",
    "# Adjust Unix time to session time in output csv\n",
    "\n",
    "labelled_df.iloc[1:,0] = data_array[:-1,0].tolist()\n",
    "labelled_df.to_csv('labelled_0.csv', index=False)\n",
    "\n",
    "plt.plot(data_array[:,0], data_array[:,6], label = 'z angular velocity')\n",
    "#plt.plot(data_array[:,0], data_array[:6], label = 'x linear accel')\n",
    "\n",
    "#plt.axis([0,18, -1000,1000])\n",
    "plt.axis([7.65,7.7, -10,1000])\n",
    "\n",
    "    \n",
    "plt.xlabel(\"Time [s]\")\n",
    "plt.ylabel(\"w [deg/s]\")\n",
    "    \n",
    "plt.legend()\n",
    "\n",
    "plt.show\n"
   ]
  },
  {
   "cell_type": "code",
   "execution_count": null,
   "id": "3b2c4300-6093-4d23-a5e6-16d46112b053",
   "metadata": {},
   "outputs": [],
   "source": []
  }
 ],
 "metadata": {
  "kernelspec": {
   "display_name": "Python 3 (ipykernel)",
   "language": "python",
   "name": "python3"
  },
  "language_info": {
   "codemirror_mode": {
    "name": "ipython",
    "version": 3
   },
   "file_extension": ".py",
   "mimetype": "text/x-python",
   "name": "python",
   "nbconvert_exporter": "python",
   "pygments_lexer": "ipython3",
   "version": "3.10.7"
  }
 },
 "nbformat": 4,
 "nbformat_minor": 5
}
