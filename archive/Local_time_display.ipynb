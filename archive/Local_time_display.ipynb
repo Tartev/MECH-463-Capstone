{
 "cells": [
  {
   "cell_type": "code",
   "execution_count": 1,
   "id": "2d41c5e4-cbb9-4843-abd0-1ca3a0b30028",
   "metadata": {},
   "outputs": [],
   "source": [
    "import datetime\n",
    "import tkinter as tk\n",
    "import os"
   ]
  },
  {
   "cell_type": "code",
   "execution_count": null,
   "id": "8c7ddc3b-bf2b-4728-aaee-52dcfa72c8f5",
   "metadata": {},
   "outputs": [],
   "source": [
    "def update_time():\n",
    "    current_time = datetime.datetime.now().strftime(\"%H:%M:%S.%f\")[:-3]\n",
    "    label.config(text = current_time)\n",
    "    label.after(1, update_time) # call the update function after 1ms\n",
    "\n",
    "root = tk.Tk()\n",
    "root.title(\"Current Time\")\n",
    "\n",
    "label = tk.Label(root, font = (\"calibri\", 40, \"bold\"))\n",
    "label.pack()\n",
    "\n",
    "update_time()\n",
    "root.mainloop()"
   ]
  },
  {
   "cell_type": "code",
   "execution_count": null,
   "id": "d24bd61b-69f5-48a7-8a96-edcec9ff35c6",
   "metadata": {},
   "outputs": [],
   "source": []
  }
 ],
 "metadata": {
  "kernelspec": {
   "display_name": "Python 3 (ipykernel)",
   "language": "python",
   "name": "python3"
  },
  "language_info": {
   "codemirror_mode": {
    "name": "ipython",
    "version": 3
   },
   "file_extension": ".py",
   "mimetype": "text/x-python",
   "name": "python",
   "nbconvert_exporter": "python",
   "pygments_lexer": "ipython3",
   "version": "3.10.7"
  }
 },
 "nbformat": 4,
 "nbformat_minor": 5
}
